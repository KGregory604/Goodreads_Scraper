{
 "cells": [
  {
   "cell_type": "code",
   "execution_count": 1,
   "metadata": {},
   "outputs": [],
   "source": [
    "import scraping"
   ]
  },
  {
   "cell_type": "code",
   "execution_count": 2,
   "metadata": {},
   "outputs": [],
   "source": [
    "description = scraping.get_description(\"33297829\")"
   ]
  },
  {
   "cell_type": "code",
   "execution_count": 3,
   "metadata": {},
   "outputs": [
    {
     "data": {
      "text/plain": [
       "'This is an alternate cover edition for ASIN B00DGZKHRC.Without warning, the world comes to an end for Hannah and Amanda Given. The sky looms frigid white. The electricity falters. Airplanes everywhere crash to the ground. But the Givens are saved by mysterious strangers, three fearsome and beautiful beings who force a plain silver bracelet onto each sister’s wrist. Within moments, the sky comes down in a crushing sheet of light and everything around them is gone.Shielded from the devastation by their silver adornments, the Givens suddenly find themselves elsewhere, a strange new Earth where restaurants move through the air like flying saucers and the fabric of time is manipulated by common household appliances.Soon Hannah and Amanda are joined by four other survivors from their world—a mordant cartoonist, a shy teenage girl, a brilliant young Australian, and a troubled ex-prodigy. Hunted by enemies they never knew they had and afflicted with temporal abilities they never wanted, the sisters and their companions begin a cross-country journey to find the one man who can save them—before time runs out.'"
      ]
     },
     "execution_count": 3,
     "metadata": {},
     "output_type": "execute_result"
    }
   ],
   "source": [
    "description"
   ]
  },
  {
   "cell_type": "code",
   "execution_count": 4,
   "metadata": {},
   "outputs": [],
   "source": [
    "from selenium import webdriver\n",
    "from selenium.webdriver.common.by import By\n",
    "from selenium.webdriver.support.ui import WebDriverWait\n",
    "from selenium.webdriver.support import expected_conditions as EC\n",
    "from selenium.common.exceptions import NoSuchElementException, TimeoutException\n",
    "import time\n",
    "\n",
    "# Set up the Selenium WebDriver.\n",
    "# Note: You need to have the appropriate WebDriver installed (e.g., chromedriver for Chrome)\n",
    "options = webdriver.ChromeOptions()\n",
    "options.add_argument('--headless')  # Run in headless mode, without a UI.\n",
    "driver = webdriver.Chrome(options=options)\n"
   ]
  },
  {
   "cell_type": "code",
   "execution_count": 5,
   "metadata": {},
   "outputs": [
    {
     "ename": "NoSuchElementException",
     "evalue": "Message: no such element: Unable to locate element: {\"method\":\"css selector\",\"selector\":\"[id=\"filters_button_id\"]\"}\n  (Session info: headless chrome=119.0.6045.106); For documentation on this error, please visit: https://www.selenium.dev/documentation/webdriver/troubleshooting/errors#no-such-element-exception\nStacktrace:\n\tGetHandleVerifier [0x00007FF60DB582B2+55298]\n\t(No symbol) [0x00007FF60DAC5E02]\n\t(No symbol) [0x00007FF60D9805AB]\n\t(No symbol) [0x00007FF60D9C175C]\n\t(No symbol) [0x00007FF60D9C18DC]\n\t(No symbol) [0x00007FF60D9FCBC7]\n\t(No symbol) [0x00007FF60D9E20EF]\n\t(No symbol) [0x00007FF60D9FAAA4]\n\t(No symbol) [0x00007FF60D9E1E83]\n\t(No symbol) [0x00007FF60D9B670A]\n\t(No symbol) [0x00007FF60D9B7964]\n\tGetHandleVerifier [0x00007FF60DED0AAB+3694587]\n\tGetHandleVerifier [0x00007FF60DF2728E+4048862]\n\tGetHandleVerifier [0x00007FF60DF1F173+4015811]\n\tGetHandleVerifier [0x00007FF60DBF47D6+695590]\n\t(No symbol) [0x00007FF60DAD0CE8]\n\t(No symbol) [0x00007FF60DACCF34]\n\t(No symbol) [0x00007FF60DACD062]\n\t(No symbol) [0x00007FF60DABD3A3]\n\tBaseThreadInitThunk [0x00007FFFF4C1257D+29]\n\tRtlUserThreadStart [0x00007FFFF614AA78+40]\n",
     "output_type": "error",
     "traceback": [
      "\u001b[1;31m---------------------------------------------------------------------------\u001b[0m",
      "\u001b[1;31mNoSuchElementException\u001b[0m                    Traceback (most recent call last)",
      "\u001b[1;32mc:\\Users\\Kevin\\OneDrive\\Desktop\\Programming\\Code\\goodreads\\Goodreads_Scraper\\test.ipynb Cell 5\u001b[0m in \u001b[0;36m<cell line: 49>\u001b[1;34m()\u001b[0m\n\u001b[0;32m     <a href='vscode-notebook-cell:/c%3A/Users/Kevin/OneDrive/Desktop/Programming/Code/goodreads/Goodreads_Scraper/test.ipynb#W4sZmlsZQ%3D%3D?line=46'>47</a>\u001b[0m \u001b[39m# Replace the URL below with the actual Goodreads page URL for the book you're interested in.\u001b[39;00m\n\u001b[0;32m     <a href='vscode-notebook-cell:/c%3A/Users/Kevin/OneDrive/Desktop/Programming/Code/goodreads/Goodreads_Scraper/test.ipynb#W4sZmlsZQ%3D%3D?line=47'>48</a>\u001b[0m book_url \u001b[39m=\u001b[39m \u001b[39m'\u001b[39m\u001b[39mhttps://www.goodreads.com/book/show/BOOK_ID\u001b[39m\u001b[39m'\u001b[39m\n\u001b[1;32m---> <a href='vscode-notebook-cell:/c%3A/Users/Kevin/OneDrive/Desktop/Programming/Code/goodreads/Goodreads_Scraper/test.ipynb#W4sZmlsZQ%3D%3D?line=48'>49</a>\u001b[0m book_reviews \u001b[39m=\u001b[39m get_reviews(book_url)\n\u001b[0;32m     <a href='vscode-notebook-cell:/c%3A/Users/Kevin/OneDrive/Desktop/Programming/Code/goodreads/Goodreads_Scraper/test.ipynb#W4sZmlsZQ%3D%3D?line=50'>51</a>\u001b[0m \u001b[39m# Do something with the book_reviews, like saving to a file or processing further.\u001b[39;00m\n\u001b[0;32m     <a href='vscode-notebook-cell:/c%3A/Users/Kevin/OneDrive/Desktop/Programming/Code/goodreads/Goodreads_Scraper/test.ipynb#W4sZmlsZQ%3D%3D?line=51'>52</a>\u001b[0m \n\u001b[0;32m     <a href='vscode-notebook-cell:/c%3A/Users/Kevin/OneDrive/Desktop/Programming/Code/goodreads/Goodreads_Scraper/test.ipynb#W4sZmlsZQ%3D%3D?line=52'>53</a>\u001b[0m \u001b[39m# Close the browser when done\u001b[39;00m\n\u001b[0;32m     <a href='vscode-notebook-cell:/c%3A/Users/Kevin/OneDrive/Desktop/Programming/Code/goodreads/Goodreads_Scraper/test.ipynb#W4sZmlsZQ%3D%3D?line=53'>54</a>\u001b[0m driver\u001b[39m.\u001b[39mquit()\n",
      "\u001b[1;32mc:\\Users\\Kevin\\OneDrive\\Desktop\\Programming\\Code\\goodreads\\Goodreads_Scraper\\test.ipynb Cell 5\u001b[0m in \u001b[0;36mget_reviews\u001b[1;34m(url, max_reviews)\u001b[0m\n\u001b[0;32m     <a href='vscode-notebook-cell:/c%3A/Users/Kevin/OneDrive/Desktop/Programming/Code/goodreads/Goodreads_Scraper/test.ipynb#W4sZmlsZQ%3D%3D?line=13'>14</a>\u001b[0m \u001b[39mdef\u001b[39;00m \u001b[39mget_reviews\u001b[39m(url, max_reviews\u001b[39m=\u001b[39m\u001b[39m100\u001b[39m):\n\u001b[0;32m     <a href='vscode-notebook-cell:/c%3A/Users/Kevin/OneDrive/Desktop/Programming/Code/goodreads/Goodreads_Scraper/test.ipynb#W4sZmlsZQ%3D%3D?line=14'>15</a>\u001b[0m     driver\u001b[39m.\u001b[39mget(url)\n\u001b[1;32m---> <a href='vscode-notebook-cell:/c%3A/Users/Kevin/OneDrive/Desktop/Programming/Code/goodreads/Goodreads_Scraper/test.ipynb#W4sZmlsZQ%3D%3D?line=15'>16</a>\u001b[0m     apply_language_filter()\n\u001b[0;32m     <a href='vscode-notebook-cell:/c%3A/Users/Kevin/OneDrive/Desktop/Programming/Code/goodreads/Goodreads_Scraper/test.ipynb#W4sZmlsZQ%3D%3D?line=17'>18</a>\u001b[0m     reviews \u001b[39m=\u001b[39m []\n\u001b[0;32m     <a href='vscode-notebook-cell:/c%3A/Users/Kevin/OneDrive/Desktop/Programming/Code/goodreads/Goodreads_Scraper/test.ipynb#W4sZmlsZQ%3D%3D?line=18'>19</a>\u001b[0m     reviews_collected \u001b[39m=\u001b[39m \u001b[39m0\u001b[39m\n",
      "\u001b[1;32mc:\\Users\\Kevin\\OneDrive\\Desktop\\Programming\\Code\\goodreads\\Goodreads_Scraper\\test.ipynb Cell 5\u001b[0m in \u001b[0;36mapply_language_filter\u001b[1;34m()\u001b[0m\n\u001b[0;32m      <a href='vscode-notebook-cell:/c%3A/Users/Kevin/OneDrive/Desktop/Programming/Code/goodreads/Goodreads_Scraper/test.ipynb#W4sZmlsZQ%3D%3D?line=0'>1</a>\u001b[0m \u001b[39mdef\u001b[39;00m \u001b[39mapply_language_filter\u001b[39m():\n\u001b[0;32m      <a href='vscode-notebook-cell:/c%3A/Users/Kevin/OneDrive/Desktop/Programming/Code/goodreads/Goodreads_Scraper/test.ipynb#W4sZmlsZQ%3D%3D?line=1'>2</a>\u001b[0m     \u001b[39m# Click the 'Filters' button\u001b[39;00m\n\u001b[1;32m----> <a href='vscode-notebook-cell:/c%3A/Users/Kevin/OneDrive/Desktop/Programming/Code/goodreads/Goodreads_Scraper/test.ipynb#W4sZmlsZQ%3D%3D?line=2'>3</a>\u001b[0m     filters_button \u001b[39m=\u001b[39m driver\u001b[39m.\u001b[39;49mfind_element(By\u001b[39m.\u001b[39;49mID, \u001b[39m\"\u001b[39;49m\u001b[39mfilters_button_id\u001b[39;49m\u001b[39m\"\u001b[39;49m)  \u001b[39m# replace with actual ID or selector\u001b[39;00m\n\u001b[0;32m      <a href='vscode-notebook-cell:/c%3A/Users/Kevin/OneDrive/Desktop/Programming/Code/goodreads/Goodreads_Scraper/test.ipynb#W4sZmlsZQ%3D%3D?line=3'>4</a>\u001b[0m     filters_button\u001b[39m.\u001b[39mclick()\n\u001b[0;32m      <a href='vscode-notebook-cell:/c%3A/Users/Kevin/OneDrive/Desktop/Programming/Code/goodreads/Goodreads_Scraper/test.ipynb#W4sZmlsZQ%3D%3D?line=5'>6</a>\u001b[0m     \u001b[39m# Click the 'English' radio button\u001b[39;00m\n",
      "File \u001b[1;32mc:\\Users\\Kevin\\anaconda3\\lib\\site-packages\\selenium\\webdriver\\remote\\webdriver.py:741\u001b[0m, in \u001b[0;36mWebDriver.find_element\u001b[1;34m(self, by, value)\u001b[0m\n\u001b[0;32m    738\u001b[0m     by \u001b[39m=\u001b[39m By\u001b[39m.\u001b[39mCSS_SELECTOR\n\u001b[0;32m    739\u001b[0m     value \u001b[39m=\u001b[39m \u001b[39mf\u001b[39m\u001b[39m'\u001b[39m\u001b[39m[name=\u001b[39m\u001b[39m\"\u001b[39m\u001b[39m{\u001b[39;00mvalue\u001b[39m}\u001b[39;00m\u001b[39m\"\u001b[39m\u001b[39m]\u001b[39m\u001b[39m'\u001b[39m\n\u001b[1;32m--> 741\u001b[0m \u001b[39mreturn\u001b[39;00m \u001b[39mself\u001b[39;49m\u001b[39m.\u001b[39;49mexecute(Command\u001b[39m.\u001b[39;49mFIND_ELEMENT, {\u001b[39m\"\u001b[39;49m\u001b[39musing\u001b[39;49m\u001b[39m\"\u001b[39;49m: by, \u001b[39m\"\u001b[39;49m\u001b[39mvalue\u001b[39;49m\u001b[39m\"\u001b[39;49m: value})[\u001b[39m\"\u001b[39m\u001b[39mvalue\u001b[39m\u001b[39m\"\u001b[39m]\n",
      "File \u001b[1;32mc:\\Users\\Kevin\\anaconda3\\lib\\site-packages\\selenium\\webdriver\\remote\\webdriver.py:347\u001b[0m, in \u001b[0;36mWebDriver.execute\u001b[1;34m(self, driver_command, params)\u001b[0m\n\u001b[0;32m    345\u001b[0m response \u001b[39m=\u001b[39m \u001b[39mself\u001b[39m\u001b[39m.\u001b[39mcommand_executor\u001b[39m.\u001b[39mexecute(driver_command, params)\n\u001b[0;32m    346\u001b[0m \u001b[39mif\u001b[39;00m response:\n\u001b[1;32m--> 347\u001b[0m     \u001b[39mself\u001b[39;49m\u001b[39m.\u001b[39;49merror_handler\u001b[39m.\u001b[39;49mcheck_response(response)\n\u001b[0;32m    348\u001b[0m     response[\u001b[39m\"\u001b[39m\u001b[39mvalue\u001b[39m\u001b[39m\"\u001b[39m] \u001b[39m=\u001b[39m \u001b[39mself\u001b[39m\u001b[39m.\u001b[39m_unwrap_value(response\u001b[39m.\u001b[39mget(\u001b[39m\"\u001b[39m\u001b[39mvalue\u001b[39m\u001b[39m\"\u001b[39m, \u001b[39mNone\u001b[39;00m))\n\u001b[0;32m    349\u001b[0m     \u001b[39mreturn\u001b[39;00m response\n",
      "File \u001b[1;32mc:\\Users\\Kevin\\anaconda3\\lib\\site-packages\\selenium\\webdriver\\remote\\errorhandler.py:229\u001b[0m, in \u001b[0;36mErrorHandler.check_response\u001b[1;34m(self, response)\u001b[0m\n\u001b[0;32m    227\u001b[0m         alert_text \u001b[39m=\u001b[39m value[\u001b[39m\"\u001b[39m\u001b[39malert\u001b[39m\u001b[39m\"\u001b[39m]\u001b[39m.\u001b[39mget(\u001b[39m\"\u001b[39m\u001b[39mtext\u001b[39m\u001b[39m\"\u001b[39m)\n\u001b[0;32m    228\u001b[0m     \u001b[39mraise\u001b[39;00m exception_class(message, screen, stacktrace, alert_text)  \u001b[39m# type: ignore[call-arg]  # mypy is not smart enough here\u001b[39;00m\n\u001b[1;32m--> 229\u001b[0m \u001b[39mraise\u001b[39;00m exception_class(message, screen, stacktrace)\n",
      "\u001b[1;31mNoSuchElementException\u001b[0m: Message: no such element: Unable to locate element: {\"method\":\"css selector\",\"selector\":\"[id=\"filters_button_id\"]\"}\n  (Session info: headless chrome=119.0.6045.106); For documentation on this error, please visit: https://www.selenium.dev/documentation/webdriver/troubleshooting/errors#no-such-element-exception\nStacktrace:\n\tGetHandleVerifier [0x00007FF60DB582B2+55298]\n\t(No symbol) [0x00007FF60DAC5E02]\n\t(No symbol) [0x00007FF60D9805AB]\n\t(No symbol) [0x00007FF60D9C175C]\n\t(No symbol) [0x00007FF60D9C18DC]\n\t(No symbol) [0x00007FF60D9FCBC7]\n\t(No symbol) [0x00007FF60D9E20EF]\n\t(No symbol) [0x00007FF60D9FAAA4]\n\t(No symbol) [0x00007FF60D9E1E83]\n\t(No symbol) [0x00007FF60D9B670A]\n\t(No symbol) [0x00007FF60D9B7964]\n\tGetHandleVerifier [0x00007FF60DED0AAB+3694587]\n\tGetHandleVerifier [0x00007FF60DF2728E+4048862]\n\tGetHandleVerifier [0x00007FF60DF1F173+4015811]\n\tGetHandleVerifier [0x00007FF60DBF47D6+695590]\n\t(No symbol) [0x00007FF60DAD0CE8]\n\t(No symbol) [0x00007FF60DACCF34]\n\t(No symbol) [0x00007FF60DACD062]\n\t(No symbol) [0x00007FF60DABD3A3]\n\tBaseThreadInitThunk [0x00007FFFF4C1257D+29]\n\tRtlUserThreadStart [0x00007FFFF614AA78+40]\n"
     ]
    }
   ],
   "source": [
    "\n",
    "def apply_language_filter():\n",
    "    # Click the 'Filters' button\n",
    "    filters_button = driver.find_element(By.ID, \"filters_button_id\")  # replace with actual ID or selector\n",
    "    filters_button.click()\n",
    "    \n",
    "    # Click the 'English' radio button\n",
    "    english_radio_button = driver.find_element(By.ID, \"english_radio_button_id\")  # replace with actual ID or selector\n",
    "    english_radio_button.click()\n",
    "    \n",
    "    # Click the 'Apply' button\n",
    "    apply_button = driver.find_element(By.ID, \"apply_button_id\")  # replace with actual ID or selector\n",
    "    apply_button.click()\n",
    "\n",
    "def get_reviews(url, max_reviews=100):\n",
    "    driver.get(url)\n",
    "    apply_language_filter()\n",
    "\n",
    "    reviews = []\n",
    "    reviews_collected = 0\n",
    "\n",
    "    while reviews_collected < max_reviews:\n",
    "        # Wait for the reviews to load\n",
    "        WebDriverWait(driver, 10).until(\n",
    "            EC.presence_of_element_located((By.CSS_SELECTOR, \".reviewText\")))\n",
    "        review_elements = driver.find_elements(By.CSS_SELECTOR, \".reviewText\")\n",
    "\n",
    "        for review in review_elements:\n",
    "            reviews.append(review.text)\n",
    "            reviews_collected += 1\n",
    "            if reviews_collected >= max_reviews:\n",
    "                break\n",
    "\n",
    "        try:\n",
    "            # Click the 'Show more reviews' button\n",
    "            more_reviews_button = WebDriverWait(driver, 10).until(\n",
    "                EC.element_to_be_clickable((By.LINK_TEXT, 'Show more reviews')))\n",
    "            driver.execute_script(\"arguments[0].click();\", more_reviews_button)\n",
    "        except (NoSuchElementException, TimeoutException):\n",
    "            # No more reviews to load\n",
    "            break\n",
    "\n",
    "        # It's a good idea to sleep for a short interval to avoid being rate-limited.\n",
    "        time.sleep(1)\n",
    "\n",
    "    return reviews\n",
    "\n",
    "# Replace the URL below with the actual Goodreads page URL for the book you're interested in.\n",
    "book_url = 'https://www.goodreads.com/book/show/BOOK_ID'\n",
    "book_reviews = get_reviews(book_url)\n",
    "\n",
    "# Do something with the book_reviews, like saving to a file or processing further.\n",
    "\n",
    "# Close the browser when done\n",
    "driver.quit()\n"
   ]
  },
  {
   "cell_type": "code",
   "execution_count": 25,
   "metadata": {},
   "outputs": [
    {
     "name": "stdout",
     "output_type": "stream",
     "text": [
      "hello\n",
      "0\n",
      "30\n",
      "60\n",
      "90\n"
     ]
    }
   ],
   "source": [
    "from selenium import webdriver\n",
    "from selenium.webdriver.common.by import By\n",
    "from selenium.webdriver.support.ui import WebDriverWait\n",
    "from selenium.webdriver.support import expected_conditions as EC\n",
    "from selenium.common.exceptions import NoSuchElementException, TimeoutException\n",
    "from selenium.webdriver.common.action_chains import ActionChains\n",
    "import time\n",
    "\n",
    "# Set up the Selenium WebDriver.\n",
    "options = webdriver.ChromeOptions()\n",
    "options.add_argument('--headless')  # Optional: Run in headless mode, without a UI.\n",
    "driver = webdriver.Chrome(options=options)\n",
    "\n",
    "def apply_language_filter():\n",
    "    # Click the 'Filters' button, identified by its class name\n",
    "    filters_button = driver.find_element(By.CSS_SELECTOR, \".Button--secondary\")\n",
    "    # apply_button = driver.find_element(By.XPATH, \"//button[.//span[text()='Apply']]\")\n",
    "    driver.execute_script(\"arguments[0].click();\", filters_button)\n",
    "    # filters_button.click()\n",
    "\n",
    "   \n",
    "    # Wait until the 'English' radio button is clickable, and then click it\n",
    "    time.sleep(2)\n",
    "    # WebDriverWait(driver, 10).until(EC.element_to_be_clickable((By.ID, \"en\"))).click()\n",
    "    english_button = driver.find_element(By.ID, \"en\")\n",
    "    driver.execute_script(\"arguments[0].click();\", english_button)\n",
    "\n",
    "    \n",
    "    # Click the 'Apply' button, which is the button containing the text \"Apply\"\n",
    "    print(\"hello\")\n",
    "    apply_button = driver.find_element(By.XPATH, \"//button[.//span[text()='Apply']]\")\n",
    "    apply_button.click()\n",
    "\n",
    "def get_reviews(url, max_reviews=100):\n",
    "    driver.get(url)\n",
    "    apply_language_filter()\n",
    "\n",
    "    reviews = []\n",
    "    reviews_collected = 0\n",
    "\n",
    "    while reviews_collected < max_reviews:\n",
    "        print(reviews_collected)\n",
    "        # Wait for the reviews to load\n",
    "        # WebDriverWait(driver, 10).until(EC.presence_of_element_located((By.CSS_SELECTOR, \".reviewText\")))\n",
    "        time.sleep(2)\n",
    "        # Get all review containers\n",
    "        review_containers = driver.find_elements(By.CSS_SELECTOR, \".ReviewText\")\n",
    "        \n",
    "        for container in review_containers:\n",
    "            # Find the element with the class 'Formatted' which contains the review text\n",
    "            review_elements = container.find_elements(By.CSS_SELECTOR, \".Formatted\")\n",
    "            review_text = ' '.join([element.text for element in review_elements])\n",
    "            \n",
    "            reviews.append(review_text)\n",
    "            reviews_collected += 1\n",
    "            if reviews_collected >= max_reviews:\n",
    "                break\n",
    "\n",
    "        try:\n",
    "            # Click the 'Show more reviews' button\n",
    "            # Note: Replace 'show_more_reviews_button_selector' with the actual selector for the 'Show more reviews' button\n",
    "            # more_reviews_button = WebDriverWait(driver, 10).until(\n",
    "            #     EC.element_to_be_clickable((By.CSS_SELECTOR, 'Button--transparent')))\n",
    "            more_reviews_button = driver.find_element(By.CSS_SELECTOR, \".Button--transparent\")\n",
    "            # apply_button = driver.find_element(By.XPATH, \"//button[.//span[text()='Apply']]\")\n",
    "            # driver.execute_script(\"arguments[0].click();\", filters_button)        \n",
    "\n",
    "            driver.execute_script(\"arguments[0].scrollIntoView(true);\", more_reviews_button)\n",
    "            driver.execute_script(\"arguments[0].click();\", more_reviews_button)\n",
    "        except (NoSuchElementException, TimeoutException):\n",
    "            # No more reviews to load\n",
    "            break\n",
    "\n",
    "        # It's a good idea to sleep for a short interval to avoid being rate-limited.\n",
    "        time.sleep(5)\n",
    "\n",
    "    return reviews\n",
    "\n",
    "\n",
    "# Replace the URL below with the actual Goodreads page URL for the book you're interested in.\n",
    "book_url = 'https://www.goodreads.com/book/show/33297829'\n",
    "book_reviews = get_reviews(book_url)\n",
    "\n",
    "# Here you would typically save the reviews to a file or a database or otherwise process them.\n",
    "\n",
    "# Close the browser when done\n",
    "driver.quit()\n"
   ]
  },
  {
   "cell_type": "code",
   "execution_count": 26,
   "metadata": {},
   "outputs": [
    {
     "data": {
      "text/plain": [
       "100"
      ]
     },
     "execution_count": 26,
     "metadata": {},
     "output_type": "execute_result"
    }
   ],
   "source": [
    "len(book_reviews)"
   ]
  },
  {
   "cell_type": "code",
   "execution_count": null,
   "metadata": {},
   "outputs": [],
   "source": []
  }
 ],
 "metadata": {
  "kernelspec": {
   "display_name": "base",
   "language": "python",
   "name": "python3"
  },
  "language_info": {
   "codemirror_mode": {
    "name": "ipython",
    "version": 3
   },
   "file_extension": ".py",
   "mimetype": "text/x-python",
   "name": "python",
   "nbconvert_exporter": "python",
   "pygments_lexer": "ipython3",
   "version": "3.9.12"
  },
  "orig_nbformat": 4
 },
 "nbformat": 4,
 "nbformat_minor": 2
}

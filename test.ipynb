{
 "cells": [
  {
   "cell_type": "code",
   "execution_count": 13,
   "metadata": {},
   "outputs": [],
   "source": [
    "import scraping"
   ]
  },
  {
   "cell_type": "code",
   "execution_count": 14,
   "metadata": {},
   "outputs": [],
   "source": [
    "description = scraping.get_description(\"33297829\")"
   ]
  },
  {
   "cell_type": "code",
   "execution_count": 15,
   "metadata": {},
   "outputs": [
    {
     "data": {
      "text/plain": [
       "'This is an alternate cover edition for ASIN B00DGZKHRC.Without warning, the world comes to an end for Hannah and Amanda Given. The sky looms frigid white. The electricity falters. Airplanes everywhere crash to the ground. But the Givens are saved by mysterious strangers, three fearsome and beautiful beings who force a plain silver bracelet onto each sister’s wrist. Within moments, the sky comes down in a crushing sheet of light and everything around them is gone.Shielded from the devastation by their silver adornments, the Givens suddenly find themselves elsewhere, a strange new Earth where restaurants move through the air like flying saucers and the fabric of time is manipulated by common household appliances.Soon Hannah and Amanda are joined by four other survivors from their world—a mordant cartoonist, a shy teenage girl, a brilliant young Australian, and a troubled ex-prodigy. Hunted by enemies they never knew they had and afflicted with temporal abilities they never wanted, the sisters and their companions begin a cross-country journey to find the one man who can save them—before time runs out.'"
      ]
     },
     "execution_count": 15,
     "metadata": {},
     "output_type": "execute_result"
    }
   ],
   "source": [
    "description"
   ]
  },
  {
   "cell_type": "code",
   "execution_count": null,
   "metadata": {},
   "outputs": [],
   "source": []
  }
 ],
 "metadata": {
  "kernelspec": {
   "display_name": "base",
   "language": "python",
   "name": "python3"
  },
  "language_info": {
   "codemirror_mode": {
    "name": "ipython",
    "version": 3
   },
   "file_extension": ".py",
   "mimetype": "text/x-python",
   "name": "python",
   "nbconvert_exporter": "python",
   "pygments_lexer": "ipython3",
   "version": "3.9.12"
  },
  "orig_nbformat": 4
 },
 "nbformat": 4,
 "nbformat_minor": 2
}
